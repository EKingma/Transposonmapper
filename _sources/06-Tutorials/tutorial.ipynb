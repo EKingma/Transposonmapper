{
 "cells": [
  {
   "cell_type": "markdown",
   "metadata": {},
   "source": [
    "# Transposonmapper output data postprocessing "
   ]
  },
  {
   "cell_type": "code",
   "execution_count": 1,
   "metadata": {},
   "outputs": [],
   "source": [
    "## Importing the required python libraries \n",
    "import os, sys\n",
    "import warnings\n",
    "import timeit\n",
    "import numpy as np\n",
    "import pandas as pd \n",
    "import pkg_resources\n"
   ]
  },
  {
   "cell_type": "markdown",
   "metadata": {},
   "source": [
    "# How to clean the wig and bed files\n",
    "\n",
    "Here we will remove transposon insertions in .bed and .wig files that were mapped outside the chromosomes, creates consistent naming for chromosomes and change the header of files with custom headers.\n",
    "\n",
    "Clean wig files for proper visualization in the genome Browser http://genome-euro.ucsc.edu/cgi-bin/hgGateway\n"
   ]
  },
  {
   "cell_type": "code",
   "execution_count": 2,
   "metadata": {},
   "outputs": [],
   "source": [
    "\n",
    "from transposonmapper.processing.clean_bedwigfiles import cleanfiles"
   ]
  },
  {
   "cell_type": "code",
   "execution_count": 3,
   "metadata": {},
   "outputs": [
    {
     "name": "stdout",
     "output_type": "stream",
     "text": [
      "Wig file loaded /data/localhome/linigodelacruz/Documents/PhD_2018/Documentation/SATAY/src(source-code)/Transposonmapper/transposonmapper/data_files/files4test/SRR062634.filt_trimmed.sorted.bam.wig\n",
      "evaluating chromosome I\n",
      "evaluating chromosome II\n",
      "evaluating chromosome III\n",
      "evaluating chromosome IV\n",
      "evaluating chromosome V\n",
      "evaluating chromosome VI\n",
      "evaluating chromosome VII\n",
      "evaluating chromosome VIII\n",
      "evaluating chromosome IX\n",
      "evaluating chromosome X\n",
      "evaluating chromosome XI\n",
      "evaluating chromosome XII\n",
      "evaluating chromosome XIII\n",
      "evaluating chromosome XIV\n",
      "evaluating chromosome XV\n",
      "evaluating chromosome XVI\n",
      "Bed file loaded /data/localhome/linigodelacruz/Documents/PhD_2018/Documentation/SATAY/src(source-code)/Transposonmapper/transposonmapper/data_files/files4test/SRR062634.filt_trimmed.sorted.bam.bed\n",
      "evaluating chromosome I\n",
      "evaluating chromosome II\n",
      "evaluating chromosome III\n",
      "evaluating chromosome IV\n",
      "evaluating chromosome V\n",
      "evaluating chromosome VI\n",
      "evaluating chromosome VII\n",
      "evaluating chromosome VIII\n",
      "evaluating chromosome IX\n",
      "evaluating chromosome X\n",
      "evaluating chromosome XI\n",
      "evaluating chromosome XII\n",
      "evaluating chromosome XIII\n",
      "evaluating chromosome XIV\n",
      "evaluating chromosome XV\n",
      "evaluating chromosome XVI\n"
     ]
    }
   ],
   "source": [
    "######## Lets save the wig and bed files as variables to clean them and call the function#####################\n",
    "import glob \n",
    "\n",
    "wig_files=[]\n",
    "bed_files=[]\n",
    "\n",
    "data_dir = pkg_resources.resource_filename(\"transposonmapper\", \"data_files/files4test/\")\n",
    "#data_dir=\"../transposonmapper/data_files/files4test/\"\n",
    "\n",
    "wig_files = glob.glob(os.path.join(data_dir, '*sorted.bam.wig'))\n",
    "bed_files = glob.glob(os.path.join(data_dir, '*sorted.bam.bed'))\n",
    "\n",
    "############## Cleaning the files #############################\n",
    "            \n",
    "custom_header = \"\"\n",
    "split_chromosomes = False\n",
    "for files in zip(wig_files,bed_files):\n",
    "    cleanfiles(filepath=files[0], custom_header=custom_header, split_chromosomes=split_chromosomes)\n",
    "    cleanfiles(filepath=files[1], custom_header=custom_header, split_chromosomes=split_chromosomes)"
   ]
  },
  {
   "cell_type": "markdown",
   "metadata": {},
   "source": [
    " #  Visualize the insertions and reads per gene  throughout the genome"
   ]
  },
  {
   "cell_type": "code",
   "execution_count": null,
   "metadata": {},
   "outputs": [],
   "source": [
    " ## Import the function\n",
    "from transposonmapper.processing.transposonread_profileplot_genome import profile_genome\n",
    "\n",
    "\n",
    "####Lets save the cleaned files as variables to clean them and call the function####\n",
    "cleanbed_files=[]\n",
    "for root, dirs, files in os.walk(data_dir):\n",
    "    for file in files:\n",
    "        if file.endswith(\"clean.bed\"):\n",
    "            cleanbed_files.append(os.path.join(root, file))\n",
    "\n",
    "cleanwig_files=[]\n",
    "for root, dirs, files in os.walk(data_dir):\n",
    "    for file in files:\n",
    "        if file.endswith(\"clean.wig\"):\n",
    "            cleanwig_files.append(os.path.join(root, file))\n",
    "\n",
    "\n",
    "#### vizualization #####\n",
    "bed_file=cleanbed_files[0] # example for the 1st file \n",
    "variable=\"transposons\" #\"reads\" \"transposons\"\n",
    "bar_width=None\n",
    "savefig=False\n",
    "\n",
    "profile=profile_genome(bed_file=bed_file, variable=variable, bar_width=bar_width, savefig=savefig,showfig=True)"
   ]
  },
  {
   "cell_type": "markdown",
   "metadata": {},
   "source": [
    "![](media/profile-plot-dummy.png)"
   ]
  },
  {
   "cell_type": "markdown",
   "metadata": {},
   "source": [
    "#  Zoom in into the chromosomes "
   ]
  },
  {
   "cell_type": "code",
   "execution_count": null,
   "metadata": {},
   "outputs": [],
   "source": [
    "from transposonmapper.processing.genomicfeatures_dataframe import dna_features\n",
    "\n",
    "##### getting the files #########\n",
    "pergene_files=[]\n",
    "\n",
    "data_dir = pkg_resources.resource_filename(\"transposonmapper\", \"data_files/files4test/\")\n",
    "# data_dir=\"../transposonmapper/data_files/files4test/\"\n",
    "for root, dirs, files in os.walk(data_dir):\n",
    "    for file in files:\n",
    "        if file.endswith('sorted.bam_pergene_insertions.txt'):\n",
    "            pergene_files.append(os.path.join(root, file))\n",
    "\n",
    "\n",
    "#### vizualization #####\n",
    "\n",
    "\n",
    "wig_file = cleanwig_files[0]\n",
    "pergene_insertions_file = pergene_files[0]\n",
    "plotting=True\n",
    "variable=\"reads\" #\"reads\" or \"insertions\"\n",
    "savefigure=False\n",
    "verbose=True\n",
    "\n",
    "   \n",
    "region = \"I\" #e.g. 1, \"I\", [\"I\", 0, 10000\"], gene name (e.g. \"CDC42\")\n",
    "dna_features(region=region,\n",
    "                wig_file=wig_file,\n",
    "                pergene_insertions_file=pergene_insertions_file,\n",
    "                variable=variable,\n",
    "                plotting=plotting,\n",
    "                savefigure=savefigure,\n",
    "                verbose=verbose)"
   ]
  },
  {
   "cell_type": "markdown",
   "metadata": {},
   "source": [
    "This is the plot for the case of the dummy sample files for chromosome I. \n",
    "\n",
    "![](media/region_I_dna_features_dummy.png)\n"
   ]
  },
  {
   "cell_type": "markdown",
   "metadata": {},
   "source": [
    "# Volcano plots\n",
    "\n",
    "Do you want to compare two differente libraries to discover which genes stood out from their comparison? \n",
    "\n",
    "Then do volcano plots!!\n"
   ]
  },
  {
   "cell_type": "markdown",
   "metadata": {},
   "source": [
    "## Getting the volcano plot\n",
    "\n",
    "Look at the help of this function , [HERE](https://github.com/SATAY-LL/Transposonmapper/blob/main/transposonmapper/statistics/volcanoplot.py)"
   ]
  },
  {
   "cell_type": "code",
   "execution_count": null,
   "metadata": {},
   "outputs": [],
   "source": [
    "from transposonmapper.statistics import volcano\n",
    "\n",
    "# Please be aware that you should add the location of your tab separated pergene files (output of the pipeline)\n",
    "# to the volcano function from \n",
    "# two libraries.\n",
    "# And also be aware you will need at least two replicates per library in order to have statistics\n",
    "# for the volcano plot.\n",
    "\n",
    "path_a = r\"\"\n",
    "filelist_a = [\"\",\"\"]\n",
    "path_b = r\"\"\n",
    "filelist_b = [\"\",\"\"]\n",
    "\n",
    "\n",
    "variable = 'read_per_gene' #'read_per_gene' 'tn_per_gene', 'Nreadsperinsrt'\n",
    "significance_threshold = 0.01 #set threshold above which p-values are regarded significant\n",
    "normalize=True\n",
    "\n",
    "trackgene_list = ['my-favorite-gene'] # [\"cdc42\"]\n",
    "\n",
    "\n",
    "figure_title = \" \"\n",
    "\n",
    "volcano_df = volcano(path_a=path_a, filelist_a=filelist_a,\n",
    "            path_b=path_b, filelist_b=filelist_b,\n",
    "            variable=variable,\n",
    "            significance_threshold=significance_threshold,\n",
    "            normalize=normalize,\n",
    "            trackgene_list=trackgene_list,\n",
    "            figure_title=figure_title)"
   ]
  },
  {
   "cell_type": "markdown",
   "metadata": {},
   "source": [
    "## This is a volcano plot made with real data!\n",
    "\n",
    "- Comparing the libraries of wild type vs $\\Delta$ nrp1\n",
    "\n",
    "![](media/example-with-real-data-volcano.png)\n"
   ]
  },
  {
   "cell_type": "markdown",
   "metadata": {},
   "source": []
  }
 ],
 "metadata": {
  "interpreter": {
   "hash": "2730163c4b7859d47c676f1a1fe8f6449d0f2539972cd0f9489fa74976c27e38"
  },
  "kernelspec": {
   "display_name": "Python 3.8.10 64-bit ('satay-dev': conda)",
   "name": "python3"
  },
  "language_info": {
   "codemirror_mode": {
    "name": "ipython",
    "version": 3
   },
   "file_extension": ".py",
   "mimetype": "text/x-python",
   "name": "python",
   "nbconvert_exporter": "python",
   "pygments_lexer": "ipython3",
   "version": "3.8.10"
  },
  "orig_nbformat": 4
 },
 "nbformat": 4,
 "nbformat_minor": 2
}
