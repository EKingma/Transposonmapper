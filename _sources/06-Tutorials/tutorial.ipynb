{
 "cells": [
  {
   "cell_type": "markdown",
   "source": [
    "# Transposonmapper output data postprocessing "
   ],
   "metadata": {}
  },
  {
   "cell_type": "code",
   "execution_count": 3,
   "source": [
    "## Importing the required python libraries \n",
    "import os, sys\n",
    "import warnings\n",
    "import timeit\n",
    "import numpy as np\n",
    "import pandas as pd \n",
    "import pkg_resources\n"
   ],
   "outputs": [],
   "metadata": {}
  },
  {
   "cell_type": "markdown",
   "source": [
    "# How to clean the wig and bed files\n",
    "\n",
    "Here we will remove transposon insertions in .bed and .wig files that were mapped outside the chromosomes, creates consistent naming for chromosomes and change the header of files with custom headers.\n",
    "\n",
    "Clean wig files for proper visualization in the genome Browser http://genome-euro.ucsc.edu/cgi-bin/hgGateway\n"
   ],
   "metadata": {}
  },
  {
   "cell_type": "code",
   "execution_count": 5,
   "source": [
    "\n",
    "from transposonmapper.processing.clean_bedwigfiles import cleanfiles"
   ],
   "outputs": [],
   "metadata": {}
  },
  {
   "cell_type": "code",
   "execution_count": 2,
   "source": [
    "######## Lets save the wig and bed files as variables to clean them and call the function#####################\n",
    "\n",
    "wig_files=[]\n",
    "bed_files=[]\n",
    "\n",
    "data_dir = pkg_resources.resource_filename(\"transposonmapper\", \"data_files/files4test/\")\n",
    "#data_dir=\"../transposonmapper/data_files/files4test/\"\n",
    "for root, dirs, files in os.walk(data_dir):\n",
    "    for file in files:\n",
    "        if file.endswith(\"sorted.bam.wig\"):\n",
    "            wig_files.append(os.path.join(root, file))\n",
    "        elif file.endswith(\"sorted.bam.bed\"):\n",
    "             bed_files.append(os.path.join(root, file))\n",
    "\n",
    "############## Cleaning the files #############################\n",
    "            \n",
    "custom_header = \"\"\n",
    "split_chromosomes = False\n",
    "for files in zip(wig_files,bed_files):\n",
    "    cleanfiles(filepath=files[0], custom_header=custom_header, split_chromosomes=split_chromosomes)\n",
    "    cleanfiles(filepath=files[1], custom_header=custom_header, split_chromosomes=split_chromosomes)"
   ],
   "outputs": [],
   "metadata": {}
  },
  {
   "cell_type": "markdown",
   "source": [
    " #  Visualize the insertions and reads per gene  throughout the genome"
   ],
   "metadata": {}
  },
  {
   "cell_type": "code",
   "execution_count": null,
   "source": [
    " ## Import the function\n",
    "from transposonmapper.processing.transposonread_profileplot_genome import profile_genome\n",
    "\n",
    "\n",
    "####Lets save the cleaned files as variables to clean them and call the function####\n",
    "cleanbed_files=[]\n",
    "for root, dirs, files in os.walk(data_dir):\n",
    "    for file in files:\n",
    "        if file.endswith(\"clean.bed\"):\n",
    "            cleanbed_files.append(os.path.join(root, file))\n",
    "\n",
    "cleanwig_files=[]\n",
    "for root, dirs, files in os.walk(data_dir):\n",
    "    for file in files:\n",
    "        if file.endswith(\"clean.wig\"):\n",
    "            cleanwig_files.append(os.path.join(root, file))\n",
    "\n",
    "\n",
    "#### vizualization #####\n",
    "bed_file=cleanbed_files[0] # example for the 1st file \n",
    "variable=\"transposons\" #\"reads\" \"transposons\"\n",
    "bar_width=None\n",
    "savefig=False\n",
    "\n",
    "profile=profile_genome(bed_file=bed_file, variable=variable, bar_width=bar_width, savefig=savefig,showfig=True)"
   ],
   "outputs": [],
   "metadata": {}
  },
  {
   "cell_type": "markdown",
   "source": [
    "![](media/profile-plot-dummy.png)"
   ],
   "metadata": {}
  },
  {
   "cell_type": "markdown",
   "source": [
    "#  Zoom in into the chromosomes "
   ],
   "metadata": {}
  },
  {
   "cell_type": "code",
   "execution_count": null,
   "source": [
    "from transposonmapper.processing.genomicfeatures_dataframe import dna_features\n",
    "\n",
    "##### getting the files #########\n",
    "pergene_files=[]\n",
    "\n",
    "data_dir=\"../transposonmapper/data_files/files4test/\"\n",
    "for root, dirs, files in os.walk(data_dir):\n",
    "    for file in files:\n",
    "        if file.endswith('sorted.bam_pergene_insertions.txt'):\n",
    "            pergene_files.append(os.path.join(root, file))\n",
    "\n",
    "\n",
    "#### vizualization #####\n",
    "\n",
    "\n",
    "wig_file = cleanwig_files[0]\n",
    "pergene_insertions_file = pergene_files[0]\n",
    "plotting=True\n",
    "variable=\"reads\" #\"reads\" or \"insertions\"\n",
    "savefigure=False\n",
    "verbose=True\n",
    "\n",
    "   \n",
    "region = \"I\" #e.g. 1, \"I\", [\"I\", 0, 10000\"], gene name (e.g. \"CDC42\")\n",
    "dna_features(region=region,\n",
    "                wig_file=wig_file,\n",
    "                pergene_insertions_file=pergene_insertions_file,\n",
    "                variable=variable,\n",
    "                plotting=plotting,\n",
    "                savefigure=savefigure,\n",
    "                verbose=verbose)"
   ],
   "outputs": [],
   "metadata": {}
  },
  {
   "cell_type": "markdown",
   "source": [
    "This is the plot for the case of the dummy sample files for chromosome I. \n",
    "\n",
    "![](media/region_I_dna_features_dummy.png)\n"
   ],
   "metadata": {}
  },
  {
   "cell_type": "markdown",
   "source": [
    "# Volcano plots\n",
    "\n",
    "Do you want to compare two differente libraries to discover which genes stood out from their comparison? \n",
    "\n",
    "Then do volcano plots!!\n"
   ],
   "metadata": {}
  },
  {
   "cell_type": "markdown",
   "source": [
    "## Getting the volcano plot\n",
    "\n",
    "Look at the help of this function , [HERE](https://github.com/SATAY-LL/Transposonmapper/blob/main/transposonmapper/statistics/volcanoplot.py)"
   ],
   "metadata": {}
  },
  {
   "cell_type": "code",
   "execution_count": null,
   "source": [
    "from transposonmapper.statistics import volcano\n",
    "\n",
    "path_a = r\"\"\n",
    "filelist_a = [\"\",\"\"]\n",
    "path_b = r\"\"\n",
    "filelist_b = [\"\",\"\"]\n",
    "\n",
    "\n",
    "variable = 'read_per_gene' #'read_per_gene' 'tn_per_gene', 'Nreadsperinsrt'\n",
    "significance_threshold = 0.01 #set threshold above which p-values are regarded significant\n",
    "normalize=True\n",
    "\n",
    "trackgene_list = ['my-favorite-gene'] # [\"cdc42\"]\n",
    "\n",
    "\n",
    "figure_title = \" \"\n",
    "\n",
    "volcano_df = volcano(path_a=path_a, filelist_a=filelist_a,\n",
    "            path_b=path_b, filelist_b=filelist_b,\n",
    "            variable=variable,\n",
    "            significance_threshold=significance_threshold,\n",
    "            normalize=normalize,\n",
    "            trackgene_list=trackgene_list,\n",
    "            figure_title=figure_title)"
   ],
   "outputs": [],
   "metadata": {}
  },
  {
   "cell_type": "markdown",
   "source": [
    "## This is a volcano plot made with real data!\n",
    "\n",
    "- Comparing the libraries of wild type vs $\\Delta$ nrp1\n",
    "\n",
    "![](media/example-with-real-data-volcano.png)\n"
   ],
   "metadata": {}
  }
 ],
 "metadata": {
  "orig_nbformat": 4,
  "language_info": {
   "name": "python",
   "version": "3.8.10",
   "mimetype": "text/x-python",
   "codemirror_mode": {
    "name": "ipython",
    "version": 3
   },
   "pygments_lexer": "ipython3",
   "nbconvert_exporter": "python",
   "file_extension": ".py"
  },
  "kernelspec": {
   "name": "python3",
   "display_name": "Python 3.8.10 64-bit ('satay-dev': conda)"
  },
  "interpreter": {
   "hash": "2730163c4b7859d47c676f1a1fe8f6449d0f2539972cd0f9489fa74976c27e38"
  }
 },
 "nbformat": 4,
 "nbformat_minor": 2
}